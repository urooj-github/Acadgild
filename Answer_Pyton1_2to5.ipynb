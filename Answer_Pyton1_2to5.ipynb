{
 "cells": [
  {
   "cell_type": "code",
   "execution_count": null,
   "metadata": {},
   "outputs": [],
   "source": [
    "## 2.1. Problem Statement: PYTHON 1\n",
    "\n",
    "##2. Write a program which will find all such numbers which are divisible by 7 but are not a\n",
    "## multiple of 5, between 2000 and 3200 (both included). The numbers obtained should be printed\n",
    "## in a comma-separated sequence on a single line."
   ]
  },
  {
   "cell_type": "code",
   "execution_count": 5,
   "metadata": {},
   "outputs": [
    {
     "name": "stdout",
     "output_type": "stream",
     "text": [
      "[2002, 2009, 2016, 2023, 2037, 2044, 2051, 2058, 2072, 2079, 2086, 2093, 2107, 2114, 2121, 2128, 2142, 2149, 2156, 2163, 2177, 2184, 2191, 2198, 2212, 2219, 2226, 2233, 2247, 2254, 2261, 2268, 2282, 2289, 2296, 2303, 2317, 2324, 2331, 2338, 2352, 2359, 2366, 2373, 2387, 2394, 2401, 2408, 2422, 2429, 2436, 2443, 2457, 2464, 2471, 2478, 2492, 2499, 2506, 2513, 2527, 2534, 2541, 2548, 2562, 2569, 2576, 2583, 2597, 2604, 2611, 2618, 2632, 2639, 2646, 2653, 2667, 2674, 2681, 2688, 2702, 2709, 2716, 2723, 2737, 2744, 2751, 2758, 2772, 2779, 2786, 2793, 2807, 2814, 2821, 2828, 2842, 2849, 2856, 2863, 2877, 2884, 2891, 2898, 2912, 2919, 2926, 2933, 2947, 2954, 2961, 2968, 2982, 2989, 2996, 3003, 3017, 3024, 3031, 3038, 3052, 3059, 3066, 3073, 3087, 3094, 3101, 3108, 3122, 3129, 3136, 3143, 3157, 3164, 3171, 3178, 3192, 3199]\n"
     ]
    }
   ],
   "source": [
    "vNum = list(range(2000,3200))\n",
    "vAns = list()\n",
    "for i in vNum:\n",
    "    if i%7 == 0 and i%5 != 0:\n",
    "        vAns.append(i)\n",
    "print(vAns)"
   ]
  },
  {
   "cell_type": "code",
   "execution_count": null,
   "metadata": {},
   "outputs": [],
   "source": [
    "##3. Write a Python program to accept the user's first and last name and then getting them\n",
    "## printed in the the reverse order with a space between first name and last name."
   ]
  },
  {
   "cell_type": "code",
   "execution_count": 9,
   "metadata": {},
   "outputs": [
    {
     "name": "stdout",
     "output_type": "stream",
     "text": [
      "Please Enter Your First NameUrooj\n",
      "Please Enter Your Last NameAhmed\n",
      "You Entered : Urooj Ahmed\n",
      "joorU demhA\n"
     ]
    }
   ],
   "source": [
    "def reverse_slicing(s):\n",
    "    return s[::-1]\n",
    "    \n",
    "vFn = input(\"Please Enter Your First Name\")\n",
    "vLn = input(\"Please Enter Your Last Name\")\n",
    "print(\"You Entered : \"+vFn+\" \"+vLn)\n",
    "print(reverse_slicing(vFn) +\" \"+ reverse_slicing(vLn))"
   ]
  },
  {
   "cell_type": "code",
   "execution_count": null,
   "metadata": {},
   "outputs": [],
   "source": [
    "##4. Write a Python program to find the volume of a sphere with diameter 12 cm.\n",
    "## Formula: V=4/3 * π * r 3\n"
   ]
  },
  {
   "cell_type": "code",
   "execution_count": 27,
   "metadata": {},
   "outputs": [
    {
     "name": "stdout",
     "output_type": "stream",
     "text": [
      "904.7786842338603\n"
     ]
    }
   ],
   "source": [
    "import math\n",
    "d= 12\n",
    "pi= math.pi\n",
    "Vol = (4/3)*pi*(d/2)**3\n",
    "print (Vol)"
   ]
  },
  {
   "cell_type": "code",
   "execution_count": null,
   "metadata": {},
   "outputs": [],
   "source": [
    "## 2.2. Problem Statement: PYTHON 2"
   ]
  },
  {
   "cell_type": "code",
   "execution_count": null,
   "metadata": {},
   "outputs": [],
   "source": [
    "##1. Write a program which accepts a sequence of comma-separated numbers from console and\n",
    "##generate a list"
   ]
  },
  {
   "cell_type": "code",
   "execution_count": 32,
   "metadata": {},
   "outputs": [
    {
     "name": "stdout",
     "output_type": "stream",
     "text": [
      "eneter a coma seperated text or values1,2,3,3,3\n",
      "Coma sperated values are:\n",
      "['1', '2', '3', '3', '3']\n",
      "No of strings are :\n",
      "5\n"
     ]
    }
   ],
   "source": [
    "vInp=input(\"eneter a coma seperated text or values\")\n",
    "vOut = vInp.split(\",\")\n",
    "print (\"Coma sperated values are:\")\n",
    "print(vOut)\n",
    "print(\"No of strings are :\")\n",
    "print(len(vOut))"
   ]
  },
  {
   "cell_type": "code",
   "execution_count": null,
   "metadata": {},
   "outputs": [],
   "source": [
    "##Create the below pattern using nested for loop in Python.\n",
    "*\n",
    "* *\n",
    "* * *\n",
    "* * * *\n",
    "* * * * *\n",
    "* * * *\n",
    "* * *\n",
    "* *\n",
    "*"
   ]
  },
  {
   "cell_type": "code",
   "execution_count": 34,
   "metadata": {},
   "outputs": [
    {
     "name": "stdout",
     "output_type": "stream",
     "text": [
      "\n",
      "*\n",
      "**\n",
      "***\n",
      "****\n",
      "*****\n",
      "****\n",
      "***\n",
      "**\n",
      "*\n"
     ]
    }
   ],
   "source": [
    "for i in range(5):\n",
    "    print(\"*\"*i)\n",
    "\n",
    "for i in range(5):\n",
    "    print(\"*\"*(5-i))\n"
   ]
  },
  {
   "cell_type": "code",
   "execution_count": null,
   "metadata": {},
   "outputs": [],
   "source": [
    "##3. Write a Python program to reverse a word after accepting the input from the user.\n",
    "##Sample Output:\n",
    "##Input word: AcadGild\n",
    "##Output: dilGdacA"
   ]
  },
  {
   "cell_type": "code",
   "execution_count": 37,
   "metadata": {},
   "outputs": [
    {
     "name": "stdout",
     "output_type": "stream",
     "text": [
      "Please Enter a text to reverse :  abc\n",
      "cba\n"
     ]
    }
   ],
   "source": [
    "vInp = input(\"Please Enter a text to reverse :  \")\n",
    "vOut = vInp[len(vInp)-1::-1]\n",
    "print(vOut)"
   ]
  },
  {
   "cell_type": "code",
   "execution_count": null,
   "metadata": {},
   "outputs": [],
   "source": [
    "## 4. Write a Python Program to print the given string in the format specified in the\n",
    "## sample output.\n",
    "## WE, THE PEOPLE OF INDIA, having solemnly resolved to constitute India into a SOVEREIGN,\n",
    "## SOCIALIST, SECULAR, DEMOCRATIC REPUBLIC and to secure to all its citizens"
   ]
  },
  {
   "cell_type": "code",
   "execution_count": 3,
   "metadata": {},
   "outputs": [
    {
     "name": "stdout",
     "output_type": "stream",
     "text": [
      "WE, THE PEOPLE OF INDIA,\n",
      "\thaving solemnly resolved to constitute India into a \n",
      "\t\tSOVEREIGN, SOCIALIST, SECULAR, DEMOCRATIC REPUBLIC \n",
      "\t\t\tand to secure to all its citizens\n"
     ]
    }
   ],
   "source": [
    "print(\"WE, THE PEOPLE OF INDIA,\\n\\thaving solemnly resolved to constitute India into a \\n\\t\\tSOVEREIGN, SOCIALIST, SECULAR, DEMOCRATIC REPUBLIC \\n\\t\\t\\tand to secure to all its citizens\")"
   ]
  },
  {
   "cell_type": "markdown",
   "metadata": {},
   "source": [
    "## 2.3. Problem Statement: PYTHON 3"
   ]
  },
  {
   "cell_type": "markdown",
   "metadata": {},
   "source": [
    "1.1. Write a Python Program to implement your own myreduce() function which works exactly\n",
    "like Python's built-in function reduce()"
   ]
  },
  {
   "cell_type": "code",
   "execution_count": 27,
   "metadata": {},
   "outputs": [
    {
     "data": {
      "text/plain": [
       "10"
      ]
     },
     "execution_count": 27,
     "metadata": {},
     "output_type": "execute_result"
    }
   ],
   "source": [
    "import functools\n",
    "functools.reduce(lambda x,y: x+y, [10,11,12])\n",
    "\n",
    "f = lambda a,b: a if (a > b) else b\n",
    "functools.reduce(f, [10,20,30])\n",
    "\n",
    "\n",
    "functools.reduce(lambda x,y: x+y, range(1,5))"
   ]
  },
  {
   "cell_type": "code",
   "execution_count": 31,
   "metadata": {},
   "outputs": [
    {
     "name": "stdout",
     "output_type": "stream",
     "text": [
      "10\n"
     ]
    }
   ],
   "source": [
    "def sum(x,y):\n",
    "    return (x+y)\n",
    "\n",
    "def my_reduce(func,seq):\n",
    "    first_item = seq[0]\n",
    "    for i in seq[1:]:\n",
    "        first_item = func(first_item,i)\n",
    "    return first_item\n",
    "\n",
    "my_list =[1,2,3,4,5,6,7,8,9,10]\n",
    "\n",
    "print(my_reduce(sum,range(1,5)))"
   ]
  },
  {
   "cell_type": "markdown",
   "metadata": {},
   "source": [
    "1.2. Write a Python program to implement your own myfilter() function which works exactly\n",
    "like Python's built-in function filter()\n",
    "\n",
    "fibo=[0,1,1,2,3,5,8,13,21,34,55,89]\n",
    "odd = list(filter(lambda x: x%2==1,fibo))\n",
    "print(odd)"
   ]
  },
  {
   "cell_type": "code",
   "execution_count": 77,
   "metadata": {},
   "outputs": [
    {
     "name": "stdout",
     "output_type": "stream",
     "text": [
      "[1, 1, 3, 5, 13, 21, 55, 89]\n"
     ]
    }
   ],
   "source": [
    "result=[]\n",
    "def myFilt(func,seq,Sgn):\n",
    "    for item in seq:\n",
    "        if func(item)==True and Sgn == \"ODD\":\n",
    "            result.append(item)\n",
    "        if func(item)==False and Sgn == \"EVEN\":\n",
    "            result.append(item)\n",
    "            \n",
    "    return result\n",
    "\n",
    "def is_pos(x):\n",
    "    if x%2 == 1: return True\n",
    "    if x%2 == 0: return False\n",
    "\n",
    "my_list=[0,1,1,2,3,5,8,13,21,34,55,89]\n",
    "print (myFilt(is_pos,my_list,\"ODD\"))\n"
   ]
  },
  {
   "cell_type": "markdown",
   "metadata": {},
   "source": [
    "2. Implement List comprehensions to produce the following lists.\n",
    "Write List comprehensions to produce the following Lists.\n",
    "['A', 'C', 'A', 'D', 'G', 'I', ’L’, ‘ D’]\n",
    "['x', 'xx', 'xxx', 'xxxx', 'y', 'yy', 'yyy', 'yyyy', 'z', 'zz', 'zzz', 'zzzz']\n",
    "['x', 'y', 'z', 'xx', 'yy', 'zz', 'xxx', 'yyy', 'zzz', 'xxxx', 'yyyy', 'zzzz']\n",
    "[[2], [3], [4], [3], [4], [5], [4], [5], [6]] [[2, 3, 4, 5], [3, 4, 5, 6], [4,\n",
    "5, 6, 7], [5, 6, 7, 8]]\n",
    "[(1, 1), (2, 1), (3, 1), (1, 2), (2, 2), (3, 2), (1, 3), (2, 3), (3, 3)]"
   ]
  },
  {
   "cell_type": "code",
   "execution_count": 78,
   "metadata": {},
   "outputs": [
    {
     "name": "stdout",
     "output_type": "stream",
     "text": [
      "['A', 'C', 'A', 'D', 'G', 'I', 'L', 'D']\n"
     ]
    }
   ],
   "source": [
    "new_list = [x for x in \"ACADGILD\"]\n",
    "print(new_list)\n"
   ]
  },
  {
   "cell_type": "markdown",
   "metadata": {},
   "source": [
    "3. Implement a function longestWord() that takes a list of words and returns the longest one."
   ]
  },
  {
   "cell_type": "code",
   "execution_count": 91,
   "metadata": {},
   "outputs": [
    {
     "name": "stdout",
     "output_type": "stream",
     "text": [
      "abcdef8\n"
     ]
    }
   ],
   "source": [
    "def long_word(seq):\n",
    "    lword= seq[0]\n",
    "    for i in seq:\n",
    "        if len(lword) < len(i):\n",
    "            lword = i\n",
    "    return lword\n",
    "\n",
    "my_string = [\"4abc\",\"abcd5\",\"abcdef8\",\"a2\"]\n",
    "print(long_word(my_string))\n"
   ]
  },
  {
   "cell_type": "markdown",
   "metadata": {},
   "source": [
    "## 2.4. Problem Statement: PYTHON 4"
   ]
  },
  {
   "cell_type": "markdown",
   "metadata": {},
   "source": [
    "1.1 Write a Python Program(with class concepts) to find the area of the triangle using the below\n",
    "formula.\n",
    "area = (s*(s-a)*(s-b)*(s-c)) ** 0.5\n",
    "Function to take the length of the sides of triangle from user should be defined in the parent\n",
    "class and function to calculate the area should be defined in subclass."
   ]
  },
  {
   "cell_type": "code",
   "execution_count": 131,
   "metadata": {},
   "outputs": [
    {
     "name": "stdout",
     "output_type": "stream",
     "text": [
      "Enter Length of Side 1 :10\n",
      "Enter Length of Side 2 :10\n",
      "Enter Length of Side 3 :15\n",
      "17.5\n",
      "49.607837082461074\n",
      "None\n"
     ]
    }
   ],
   "source": [
    "class triangle:\n",
    "    def __init__(self,a,b,c):\n",
    "        self.a = float(a)\n",
    "        self.b = float(b)\n",
    "        self.c = float(c)\n",
    "        \n",
    "    def parent_triangle():\n",
    "        side1 = float(input(\"Enter Length of Side 1 :\"))\n",
    "        side2 = float(input(\"Enter Length of Side 2 :\"))\n",
    "        side3 = float(input(\"Enter Length of Side 3 :\"))\n",
    "        return child_triangle(side1,side2,side3)\n",
    "\n",
    "    def child_triangle(s1,s2,s3):\n",
    "        p = (s1+s2+s3)/2\n",
    "        area = ((p*(p-s1)*(p-s2)*(p-s3))**0.5)\n",
    "        return area\n",
    "        \n",
    "print(parent_triangle())"
   ]
  },
  {
   "cell_type": "code",
   "execution_count": 132,
   "metadata": {},
   "outputs": [
    {
     "name": "stdout",
     "output_type": "stream",
     "text": [
      "Enter Length of Side 1 :24\n",
      "Enter Length of Side 2 :30\n",
      "Enter Length of Side 3 :18\n",
      "36.0\n",
      "216.0\n"
     ]
    }
   ],
   "source": [
    "a = triangle\n",
    "a.parent_triangle()"
   ]
  },
  {
   "cell_type": "markdown",
   "metadata": {},
   "source": [
    "1.2 Write a function filter_long_words() that takes a list of words and an integer n and returns\n",
    "the list of words that are longer than n."
   ]
  },
  {
   "cell_type": "code",
   "execution_count": 155,
   "metadata": {},
   "outputs": [
    {
     "name": "stdout",
     "output_type": "stream",
     "text": [
      "['abcde', 'abcdef']\n"
     ]
    }
   ],
   "source": [
    "def lwords(n,seq):\n",
    "    longWords =[]\n",
    "    x=0\n",
    "    for i in seq:\n",
    "        if len(seq[x]) > n:\n",
    "            longWords.append(seq[x])\n",
    "        x=x+1\n",
    "    return longWords\n",
    "\n",
    "my_list =[\"abc\",\"abcd\",\"abcde\",\"abcdef\"]\n",
    "print(lwords(4,my_list))\n",
    "    "
   ]
  },
  {
   "cell_type": "markdown",
   "metadata": {},
   "source": [
    "2.1 Write a Python program using function concept that maps list of words into a list of integers representing the lengths of the corresponding words. Hint: If a list [ ab,cde,erty] is passed on to the python function output should come as [2,3,4] Here 2,3 and 4 are the lengths of the words in the list."
   ]
  },
  {
   "cell_type": "code",
   "execution_count": 157,
   "metadata": {},
   "outputs": [
    {
     "name": "stdout",
     "output_type": "stream",
     "text": [
      "[3, 4, 5, 6]\n"
     ]
    }
   ],
   "source": [
    "def lenWords(seq):\n",
    "    longWords =[]\n",
    "    x=0\n",
    "    for i in seq:\n",
    "        longWords.append(len(seq[x]))\n",
    "        x=x+1\n",
    "    return longWords\n",
    "\n",
    "my_list =[\"abc\",\"abcd\",\"abcde\",\"abcdef\"]\n",
    "print(lenWords(my_list))"
   ]
  },
  {
   "cell_type": "markdown",
   "metadata": {},
   "source": [
    "2.2 Write a Python function which takes a character (i.e. a string of length 1) and returns True if\n",
    "it is a vowel, False otherwise."
   ]
  },
  {
   "cell_type": "code",
   "execution_count": 166,
   "metadata": {},
   "outputs": [
    {
     "name": "stdout",
     "output_type": "stream",
     "text": [
      "Enter a char :1\n",
      "False\n"
     ]
    }
   ],
   "source": [
    "def checkChar(c):\n",
    "    vowel = ['a','e','i','o','u']\n",
    "    if c.isalpha() == False:\n",
    "        c = 'z'\n",
    "             \n",
    "    if c.lower() in vowel :\n",
    "        return True  \n",
    "    else:\n",
    "        return False\n",
    "             \n",
    "cr = input(\"Enter a char :\")\n",
    "print(checkChar(cr))"
   ]
  },
  {
   "cell_type": "markdown",
   "metadata": {},
   "source": [
    "## 2.5. Problem Statement: PYTHON 5"
   ]
  },
  {
   "cell_type": "markdown",
   "metadata": {},
   "source": [
    "2.5. Problem Statement: PYTHON 5\n",
    "1. Write a function to compute 5/0 and use try/except to catch the exceptions"
   ]
  },
  {
   "cell_type": "code",
   "execution_count": 169,
   "metadata": {},
   "outputs": [
    {
     "name": "stdout",
     "output_type": "stream",
     "text": [
      "Oops! 4   0  are not divisible.\n",
      "Next entry.\n",
      "\n"
     ]
    }
   ],
   "source": [
    "def div(x,y):\n",
    "    ans = 0\n",
    "    try:\n",
    "        ans = x/y\n",
    "        print(\"the answer is \", ans)\n",
    "        pass\n",
    "    except:\n",
    "        print(\"Oops!\",x,\" \",y,\" are not divisible.\")\n",
    "        print(\"Next entry, Please.\")\n",
    "        print()\n",
    "\n",
    "div(4,0)"
   ]
  },
  {
   "cell_type": "markdown",
   "metadata": {},
   "source": [
    "2. Implement a Python program to generate all sentences where subject is in [\"Americans\",\n",
    "\"Indians\"] and verb is in [\"Play\", \"watch\"] and the object is in [\"Baseball\",\"cricket\"].\n",
    "Hint: Subject,Verb and Object should be declared in the program as shown below.\n",
    "subjects=[\"Americans \",\"Indians\"]\n",
    "verbs=[\"play\",\"watch\"]\n",
    "objects=[\"Baseball\",\"Cricket\"]\n",
    "Output should come as below:\n",
    "Americans play Baseball.\n",
    "Americans play Cricket.\n",
    "Americans watch Baseball.\n",
    "Americans watch Cricket.\n",
    "Indians play Baseball.\n",
    "Indians play Cricket.\n",
    "Indians watch Baseball.\n",
    "Indians watch Cricket."
   ]
  },
  {
   "cell_type": "code",
   "execution_count": 184,
   "metadata": {},
   "outputs": [
    {
     "name": "stdout",
     "output_type": "stream",
     "text": [
      "Americans  play Baseball\n",
      "Americans  play Cricket\n",
      "Americans  watch Baseball\n",
      "Americans  watch Cricket\n",
      "Indians play Baseball\n",
      "Indians play Cricket\n",
      "Indians watch Baseball\n",
      "Indians watch Cricket\n"
     ]
    }
   ],
   "source": [
    "def make_sentence(a,b,c):\n",
    "    sent = ([x+\" \"+y+\" \"+z for x in a for y in b for z in c])\n",
    "    for x in sent:\n",
    "        print(x)\n",
    "    \n",
    "subjects = [\"Americans\",\"Indians\"]\n",
    "verbs = [\"play\",\"watch\"]\n",
    "objects = [\"Baseball\",\"Cricket\"]\n",
    "\n",
    "make_sentence(subjects,verbs,objects)"
   ]
  },
  {
   "cell_type": "code",
   "execution_count": null,
   "metadata": {},
   "outputs": [],
   "source": []
  },
  {
   "cell_type": "code",
   "execution_count": null,
   "metadata": {},
   "outputs": [],
   "source": []
  },
  {
   "cell_type": "code",
   "execution_count": null,
   "metadata": {},
   "outputs": [],
   "source": []
  },
  {
   "cell_type": "code",
   "execution_count": null,
   "metadata": {},
   "outputs": [],
   "source": []
  }
 ],
 "metadata": {
  "kernelspec": {
   "display_name": "Python 3",
   "language": "python",
   "name": "python3"
  },
  "language_info": {
   "codemirror_mode": {
    "name": "ipython",
    "version": 3
   },
   "file_extension": ".py",
   "mimetype": "text/x-python",
   "name": "python",
   "nbconvert_exporter": "python",
   "pygments_lexer": "ipython3",
   "version": "3.7.1"
  }
 },
 "nbformat": 4,
 "nbformat_minor": 2
}
